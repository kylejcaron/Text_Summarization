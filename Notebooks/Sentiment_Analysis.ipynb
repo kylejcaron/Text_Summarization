{
 "cells": [
  {
   "cell_type": "code",
   "execution_count": 2,
   "metadata": {},
   "outputs": [],
   "source": [
    "import pandas as pd\n",
    "import matplotlib.pyplot as plt\n",
    "%matplotlib inline\n",
    "import pyspark\n",
    "import numpy as np\n",
    "import string\n",
    "import re\n",
    "from pyspark.sql.functions import isnan, when, count, col\n",
    "import pyspark.sql.functions as F\n",
    "\n",
    "import nltk\n",
    "from nltk.tokenize import word_tokenize\n",
    "from nltk.corpus import stopwords\n",
    "from nltk.stem.porter import PorterStemmer\n",
    "from pyspark.ml.clustering import KMeans\n",
    "from pyspark.ml.feature import CountVectorizer, IDF\n",
    "from pyspark.sql.functions import udf\n",
    "from pyspark.sql.types import ArrayType, StringType, IntegerType, FloatType, DoubleType, LongType\n",
    "from pyspark.sql import Row\n",
    "import pickle\n",
    "PUNCTUATION = set(string.punctuation)\n",
    "STOPWORDS = set(stopwords.words('english'))"
   ]
  },
  {
   "cell_type": "code",
   "execution_count": 3,
   "metadata": {},
   "outputs": [],
   "source": [
    "df = pd.read_csv('data/sentiment_analysis_subset.csv')\\\n",
    "                .drop(['Unnamed: 0', 'Id'],axis=1)"
   ]
  },
  {
   "cell_type": "code",
   "execution_count": 4,
   "metadata": {},
   "outputs": [
    {
     "data": {
      "text/html": [
       "<div>\n",
       "<style scoped>\n",
       "    .dataframe tbody tr th:only-of-type {\n",
       "        vertical-align: middle;\n",
       "    }\n",
       "\n",
       "    .dataframe tbody tr th {\n",
       "        vertical-align: top;\n",
       "    }\n",
       "\n",
       "    .dataframe thead th {\n",
       "        text-align: right;\n",
       "    }\n",
       "</style>\n",
       "<table border=\"1\" class=\"dataframe\">\n",
       "  <thead>\n",
       "    <tr style=\"text-align: right;\">\n",
       "      <th></th>\n",
       "      <th>ProductId</th>\n",
       "      <th>UserId</th>\n",
       "      <th>ProfileName</th>\n",
       "      <th>HelpfulnessNumerator</th>\n",
       "      <th>HelpfulnessDenominator</th>\n",
       "      <th>Score</th>\n",
       "      <th>Time</th>\n",
       "      <th>Summary</th>\n",
       "      <th>Text</th>\n",
       "      <th>Summary_len</th>\n",
       "      <th>Text_len</th>\n",
       "      <th>Summary_cleaned</th>\n",
       "    </tr>\n",
       "  </thead>\n",
       "  <tbody>\n",
       "    <tr>\n",
       "      <th>0</th>\n",
       "      <td>B00813GRG4</td>\n",
       "      <td>A1D87F6ZCVE5NK</td>\n",
       "      <td>dll pa</td>\n",
       "      <td>0</td>\n",
       "      <td>0</td>\n",
       "      <td>1</td>\n",
       "      <td>1346976000</td>\n",
       "      <td>not as advertised</td>\n",
       "      <td>\"product arrived labeled as jumbo salted peanu...</td>\n",
       "      <td>3</td>\n",
       "      <td>39</td>\n",
       "      <td>[advertised]</td>\n",
       "    </tr>\n",
       "    <tr>\n",
       "      <th>1</th>\n",
       "      <td>B0009XLVG0</td>\n",
       "      <td>A327PCT23YH90</td>\n",
       "      <td>LT</td>\n",
       "      <td>1</td>\n",
       "      <td>1</td>\n",
       "      <td>1</td>\n",
       "      <td>1339545600</td>\n",
       "      <td>my cats are not fans of the new food</td>\n",
       "      <td>my cats have been happily eating felidae plati...</td>\n",
       "      <td>9</td>\n",
       "      <td>80</td>\n",
       "      <td>[cats, fans, new, food]</td>\n",
       "    </tr>\n",
       "    <tr>\n",
       "      <th>2</th>\n",
       "      <td>B0019CW0HE</td>\n",
       "      <td>A2P6ACFZ8FTNVV</td>\n",
       "      <td>Melissa Benjamin</td>\n",
       "      <td>0</td>\n",
       "      <td>1</td>\n",
       "      <td>1</td>\n",
       "      <td>1331164800</td>\n",
       "      <td>bad</td>\n",
       "      <td>i fed this to my golden retriever and he hated...</td>\n",
       "      <td>1</td>\n",
       "      <td>37</td>\n",
       "      <td>[bad]</td>\n",
       "    </tr>\n",
       "    <tr>\n",
       "      <th>3</th>\n",
       "      <td>B002HQAXUW</td>\n",
       "      <td>A17ESTP5T7T1PH</td>\n",
       "      <td>Bumbeda1</td>\n",
       "      <td>1</td>\n",
       "      <td>1</td>\n",
       "      <td>1</td>\n",
       "      <td>1324944000</td>\n",
       "      <td>rip off price</td>\n",
       "      <td>these singles sell for $2.50 - $3.36 at the st...</td>\n",
       "      <td>3</td>\n",
       "      <td>46</td>\n",
       "      <td>[rip, price]</td>\n",
       "    </tr>\n",
       "    <tr>\n",
       "      <th>4</th>\n",
       "      <td>B000ITVLE2</td>\n",
       "      <td>ARTBQH9WOZTIV</td>\n",
       "      <td>\"Billy Wilson \"\"amzrview\"\"\"</td>\n",
       "      <td>0</td>\n",
       "      <td>4</td>\n",
       "      <td>1</td>\n",
       "      <td>1269216000</td>\n",
       "      <td>tasteless but low calorie</td>\n",
       "      <td>seriously this product was as tasteless as the...</td>\n",
       "      <td>4</td>\n",
       "      <td>48</td>\n",
       "      <td>[tasteless, low, calorie]</td>\n",
       "    </tr>\n",
       "  </tbody>\n",
       "</table>\n",
       "</div>"
      ],
      "text/plain": [
       "    ProductId          UserId                  ProfileName  \\\n",
       "0  B00813GRG4  A1D87F6ZCVE5NK                       dll pa   \n",
       "1  B0009XLVG0   A327PCT23YH90                           LT   \n",
       "2  B0019CW0HE  A2P6ACFZ8FTNVV             Melissa Benjamin   \n",
       "3  B002HQAXUW  A17ESTP5T7T1PH                     Bumbeda1   \n",
       "4  B000ITVLE2   ARTBQH9WOZTIV  \"Billy Wilson \"\"amzrview\"\"\"   \n",
       "\n",
       "   HelpfulnessNumerator  HelpfulnessDenominator  Score        Time  \\\n",
       "0                     0                       0      1  1346976000   \n",
       "1                     1                       1      1  1339545600   \n",
       "2                     0                       1      1  1331164800   \n",
       "3                     1                       1      1  1324944000   \n",
       "4                     0                       4      1  1269216000   \n",
       "\n",
       "                                Summary  \\\n",
       "0                     not as advertised   \n",
       "1  my cats are not fans of the new food   \n",
       "2                                   bad   \n",
       "3                         rip off price   \n",
       "4             tasteless but low calorie   \n",
       "\n",
       "                                                Text  Summary_len  Text_len  \\\n",
       "0  \"product arrived labeled as jumbo salted peanu...            3        39   \n",
       "1  my cats have been happily eating felidae plati...            9        80   \n",
       "2  i fed this to my golden retriever and he hated...            1        37   \n",
       "3  these singles sell for $2.50 - $3.36 at the st...            3        46   \n",
       "4  seriously this product was as tasteless as the...            4        48   \n",
       "\n",
       "             Summary_cleaned  \n",
       "0               [advertised]  \n",
       "1    [cats, fans, new, food]  \n",
       "2                      [bad]  \n",
       "3               [rip, price]  \n",
       "4  [tasteless, low, calorie]  "
      ]
     },
     "execution_count": 4,
     "metadata": {},
     "output_type": "execute_result"
    }
   ],
   "source": [
    "df.head()"
   ]
  },
  {
   "cell_type": "code",
   "execution_count": 5,
   "metadata": {},
   "outputs": [],
   "source": [
    "def clean_text(text, remove_stopwords=True, rejoin=True):\n",
    "    text = text.lower()\n",
    "    # Remove tags and characters\n",
    "    cleanr = re.compile(\"<.*?>|[*`\\'\\\"+=.’‘-]|http\\S+|href|span|class\")\n",
    "    text = re.sub(cleanr, '', text)\n",
    "    tokens = word_tokenize(text)\n",
    "    tokens = [w for w in tokens if w not in PUNCTUATION]\n",
    "    if remove_stopwords==True:\n",
    "        tokens = [w for w in tokens if w not in STOPWORDS]\n",
    "    if rejoin==True:\n",
    "        tokens = ' '.join(tokens)\n",
    "    return tokens"
   ]
  },
  {
   "cell_type": "code",
   "execution_count": 6,
   "metadata": {},
   "outputs": [],
   "source": [
    "df.Summary = df.Summary.apply(clean_text, args=(False,True))\n",
    "df.Text = df.Text.apply(clean_text, args=(True,True))"
   ]
  },
  {
   "cell_type": "code",
   "execution_count": 7,
   "metadata": {},
   "outputs": [],
   "source": [
    "text_df = df[['Text', 'Summary', 'Score']]"
   ]
  },
  {
   "cell_type": "code",
   "execution_count": 8,
   "metadata": {},
   "outputs": [
    {
     "name": "stderr",
     "output_type": "stream",
     "text": [
      "/Users/kylecaron/anaconda3/lib/python3.6/site-packages/pandas/core/generic.py:5096: SettingWithCopyWarning: \n",
      "A value is trying to be set on a copy of a slice from a DataFrame.\n",
      "Try using .loc[row_indexer,col_indexer] = value instead\n",
      "\n",
      "See the caveats in the documentation: http://pandas.pydata.org/pandas-docs/stable/indexing.html#indexing-view-versus-copy\n",
      "  self[name] = value\n"
     ]
    }
   ],
   "source": [
    "text_df.Score = text_df.Score.replace(1,0)\n",
    "text_df.Score = text_df.Score.replace(5,1)"
   ]
  },
  {
   "cell_type": "code",
   "execution_count": 9,
   "metadata": {},
   "outputs": [
    {
     "data": {
      "text/plain": [
       "<matplotlib.axes._subplots.AxesSubplot at 0x1a186e8c18>"
      ]
     },
     "execution_count": 9,
     "metadata": {},
     "output_type": "execute_result"
    },
    {
     "data": {
      "image/png": "[encoded data removed]",
      "text/plain": [
       "<Figure size 432x288 with 1 Axes>"
      ]
     },
     "metadata": {
      "needs_background": "light"
     },
     "output_type": "display_data"
    }
   ],
   "source": [
    "text_df.Score.hist()"
   ]
  },
  {
   "cell_type": "markdown",
   "metadata": {},
   "source": [
    "# Model"
   ]
  },
  {
   "cell_type": "code",
   "execution_count": 10,
   "metadata": {},
   "outputs": [
    {
     "name": "stderr",
     "output_type": "stream",
     "text": [
      "/Users/kylecaron/anaconda3/lib/python3.6/site-packages/sklearn/model_selection/_split.py:2179: FutureWarning: From version 0.21, test_size will always complement train_size unless both are specified.\n",
      "  FutureWarning)\n"
     ]
    }
   ],
   "source": [
    "X = text_df['Text']\n",
    "y = text_df['Score']\n",
    "\n",
    "\n",
    "X_train, X_test, y_train, y_test = train_test_split(\n",
    "    X,y, train_size=0.75, shuffle=True, stratify=y, random_state=100)"
   ]
  },
  {
   "cell_type": "code",
   "execution_count": 11,
   "metadata": {},
   "outputs": [],
   "source": [
    "BNB_idf = BernoulliNB()\n",
    "tfidf = TfidfVectorizer(list(X_train),\n",
    "                        lowercase=True, stop_words='english')"
   ]
  },
  {
   "cell_type": "code",
   "execution_count": 12,
   "metadata": {},
   "outputs": [],
   "source": [
    "idf_X_train = tfidf.fit_transform(X_train)\n",
    "idf_X_test = tfidf.transform(X_test)"
   ]
  },
  {
   "cell_type": "code",
   "execution_count": 13,
   "metadata": {},
   "outputs": [],
   "source": [
    "from sklearn.model_selection import cross_val_score"
   ]
  },
  {
   "cell_type": "code",
   "execution_count": 15,
   "metadata": {},
   "outputs": [
    {
     "data": {
      "text/plain": [
       "0.8999412626571124"
      ]
     },
     "execution_count": 15,
     "metadata": {},
     "output_type": "execute_result"
    }
   ],
   "source": [
    "BNB_idf.fit(idf_X_train, y_train)\n",
    "np.mean(cross_val_score(BNB_idf, idf_X_train, y_train, cv=10))"
   ]
  },
  {
   "cell_type": "markdown",
   "metadata": {},
   "source": [
    "# Other Models"
   ]
  },
  {
   "cell_type": "code",
   "execution_count": 16,
   "metadata": {},
   "outputs": [],
   "source": [
    "from sklearn.linear_model import SGDClassifier"
   ]
  },
  {
   "cell_type": "code",
   "execution_count": 17,
   "metadata": {},
   "outputs": [
    {
     "name": "stderr",
     "output_type": "stream",
     "text": [
      "/Users/kylecaron/anaconda3/lib/python3.6/site-packages/sklearn/linear_model/stochastic_gradient.py:166: FutureWarning: max_iter and tol parameters have been added in SGDClassifier in 0.19. If both are left unset, they default to max_iter=5 and tol=None. If tol is not None, max_iter defaults to max_iter=1000. From 0.21, default max_iter will be 1000, and default tol will be 1e-3.\n",
      "  FutureWarning)\n"
     ]
    },
    {
     "data": {
      "text/plain": [
       "SGDClassifier(alpha=0.0001, average=False, class_weight=None,\n",
       "       early_stopping=False, epsilon=0.1, eta0=0.0, fit_intercept=True,\n",
       "       l1_ratio=0.15, learning_rate='optimal', loss='hinge', max_iter=None,\n",
       "       n_iter=None, n_iter_no_change=5, n_jobs=None, penalty='l2',\n",
       "       power_t=0.5, random_state=None, shuffle=True, tol=None,\n",
       "       validation_fraction=0.1, verbose=0, warm_start=False)"
      ]
     },
     "execution_count": 17,
     "metadata": {},
     "output_type": "execute_result"
    }
   ],
   "source": [
    "SVM = SGDClassifier()\n",
    "SVM.fit(idf_X_train, y_train)"
   ]
  },
  {
   "cell_type": "code",
   "execution_count": 18,
   "metadata": {},
   "outputs": [
    {
     "name": "stderr",
     "output_type": "stream",
     "text": [
      "/Users/kylecaron/anaconda3/lib/python3.6/site-packages/sklearn/linear_model/stochastic_gradient.py:166: FutureWarning: max_iter and tol parameters have been added in SGDClassifier in 0.19. If both are left unset, they default to max_iter=5 and tol=None. If tol is not None, max_iter defaults to max_iter=1000. From 0.21, default max_iter will be 1000, and default tol will be 1e-3.\n",
      "  FutureWarning)\n"
     ]
    },
    {
     "data": {
      "text/plain": [
       "0.9081574890631139"
      ]
     },
     "execution_count": 18,
     "metadata": {},
     "output_type": "execute_result"
    }
   ],
   "source": [
    "np.mean(cross_val_score(SVM, idf_X_train, y_train, cv=10))"
   ]
  },
  {
   "cell_type": "code",
   "execution_count": 19,
   "metadata": {},
   "outputs": [],
   "source": [
    "from sklearn.metrics import roc_curve\n",
    "from sklearn.metrics import roc_auc_score\n"
   ]
  },
  {
   "cell_type": "code",
   "execution_count": 20,
   "metadata": {},
   "outputs": [],
   "source": [
    "from sklearn.linear_model import LogisticRegression"
   ]
  },
  {
   "cell_type": "code",
   "execution_count": 21,
   "metadata": {},
   "outputs": [
    {
     "name": "stderr",
     "output_type": "stream",
     "text": [
      "/Users/kylecaron/anaconda3/lib/python3.6/site-packages/sklearn/linear_model/logistic.py:433: FutureWarning: Default solver will be changed to 'lbfgs' in 0.22. Specify a solver to silence this warning.\n",
      "  FutureWarning)\n"
     ]
    },
    {
     "data": {
      "text/plain": [
       "LogisticRegression(C=1.0, class_weight=None, dual=False, fit_intercept=True,\n",
       "          intercept_scaling=1, max_iter=100, multi_class='warn',\n",
       "          n_jobs=None, penalty='l2', random_state=None, solver='warn',\n",
       "          tol=0.0001, verbose=0, warm_start=False)"
      ]
     },
     "execution_count": 21,
     "metadata": {},
     "output_type": "execute_result"
    }
   ],
   "source": [
    "lr = LogisticRegression()\n",
    "lr.fit(idf_X_train, y_train)"
   ]
  },
  {
   "cell_type": "code",
   "execution_count": 29,
   "metadata": {},
   "outputs": [
    {
     "data": {
      "text/plain": [
       "<matplotlib.legend.Legend at 0x1a1c58a4e0>"
      ]
     },
     "execution_count": 29,
     "metadata": {},
     "output_type": "execute_result"
    },
    {
     "data": {
      "image/png": "[encoded data removed]",
      "text/plain": [
       "<Figure size 432x288 with 1 Axes>"
      ]
     },
     "metadata": {
      "needs_background": "light"
     },
     "output_type": "display_data"
    }
   ],
   "source": [
    "fpr1, tpr1, thresholds = roc_curve(y_test,\n",
    "                BNB_idf.predict_proba(idf_X_test)[:,1])\n",
    "# fpr2, tpr2, thresholds = roc_curve(y_test,\n",
    "#                 SVM.predict(idf_X_test))\n",
    "fpr3, tpr3, thresholds = roc_curve(y_test,\n",
    "                lr.predict_proba(idf_X_test)[:,1])\n",
    "\n",
    "plt.plot(fpr1,tpr1, label = 'NB')\n",
    "# plt.plot(fpr2,tpr2, label='SVM')\n",
    "plt.plot(fpr3,tpr3, label = 'LR')\n",
    "plt.title('Receiver Operater Curve')\n",
    "plt.xlabel('FPR')\n",
    "plt.ylabel('TPR')\n",
    "plt.legend()"
   ]
  },
  {
   "cell_type": "code",
   "execution_count": 26,
   "metadata": {},
   "outputs": [
    {
     "name": "stdout",
     "output_type": "stream",
     "text": [
      "TF-IDF AUC: 0.8993157910799048\n",
      "SVM AUC: 0.9078861981301124\n",
      "LR AUC: 0.9141202918023299\n"
     ]
    }
   ],
   "source": [
    "print('TF-IDF AUC: {}'.format(roc_auc_score(\n",
    "    y_test,BNB_idf.predict(idf_X_test))))\n",
    "\n",
    "print('SVM AUC: {}'.format(\n",
    "    roc_auc_score(y_test, SVM.predict(idf_X_test))))\n",
    "\n",
    "print('LR AUC: {}'.format(\n",
    "    roc_auc_score(y_test, lr.predict(idf_X_test))))"
   ]
  },
  {
   "cell_type": "markdown",
   "metadata": {},
   "source": [
    "# Grid Search"
   ]
  },
  {
   "cell_type": "code",
   "execution_count": 27,
   "metadata": {},
   "outputs": [],
   "source": [
    "from sklearn.model_selection import GridSearchCV\n",
    "from sklearn.pipeline import Pipeline\n"
   ]
  },
  {
   "cell_type": "code",
   "execution_count": 72,
   "metadata": {},
   "outputs": [
    {
     "name": "stderr",
     "output_type": "stream",
     "text": [
      "/Users/kylecaron/anaconda3/lib/python3.6/site-packages/sklearn/model_selection/_split.py:2053: FutureWarning: You should specify a value for 'cv' instead of relying on the default value. The default value will change from 3 to 5 in version 0.22.\n",
      "  warnings.warn(CV_WARNING, FutureWarning)\n"
     ]
    },
    {
     "data": {
      "text/plain": [
       "GridSearchCV(cv='warn', error_score='raise-deprecating',\n",
       "       estimator=Pipeline(memory=None,\n",
       "     steps=[('IDF', TfidfVectorizer(analyzer='word', binary=False, decode_error='strict',\n",
       "        dtype=<class 'numpy.float64'>, encoding='utf-8', input='content',\n",
       "        lowercase=True, max_df=1.0, max_features=None, min_df=1,\n",
       "        ngram_range=(1, 1), norm='l2', preprocessor=None, smooth_idf=True,\n",
       " ...rue,\n",
       "        vocabulary=None)), ('BNB', MultinomialNB(alpha=1.0, class_prior=None, fit_prior=True))]),\n",
       "       fit_params=None, iid='warn', n_jobs=-1,\n",
       "       param_grid={'BNB__alpha': [0.001, 0.1, 1, 0.9, 0.78, 0.5, 0.16, 0.4], 'IDF__min_df': [1, 0.05, 0.1], 'IDF__max_df': [1.0, 0.83, 0.95]},\n",
       "       pre_dispatch='2*n_jobs', refit=True, return_train_score='warn',\n",
       "       scoring='roc_auc', verbose=0)"
      ]
     },
     "execution_count": 72,
     "metadata": {},
     "output_type": "execute_result"
    }
   ],
   "source": [
    "IDF = TfidfVectorizer(lowercase=True, stop_words='english')\n",
    "BNB = BernoulliNB()\n",
    "\n",
    "pipe = Pipeline(steps=[('IDF', IDF), ('BNB', MNB)])\n",
    "\n",
    "param_dict = {'BNB__alpha':[0.001, 0.1,1, 0.9, 0.78, 0.5, 0.16,0.4],\n",
    " 'IDF__min_df':[1, 0.05, 0.1],\n",
    " 'IDF__max_df':[1.0, 0.83, 0.95]\n",
    "}\n",
    "BNB_grid = GridSearchCV(pipe, param_dict, scoring='roc_auc', \n",
    "                        n_jobs=-1)\n",
    "BNB_grid.fit(X_train, y_train)"
   ]
  },
  {
   "cell_type": "code",
   "execution_count": 32,
   "metadata": {},
   "outputs": [
    {
     "data": {
      "text/plain": [
       "{'BNB__alpha': 1, 'IDF__max_df': 1.0, 'IDF__min_df': 1}"
      ]
     },
     "execution_count": 32,
     "metadata": {},
     "output_type": "execute_result"
    }
   ],
   "source": [
    "BNB_grid.best_params_\n"
   ]
  },
  {
   "cell_type": "code",
   "execution_count": 33,
   "metadata": {},
   "outputs": [
    {
     "data": {
      "text/plain": [
       "0.9610757504043973"
      ]
     },
     "execution_count": 33,
     "metadata": {},
     "output_type": "execute_result"
    }
   ],
   "source": [
    "BNB_grid.best_params_\n",
    "BNB_grid.best_score_"
   ]
  },
  {
   "cell_type": "markdown",
   "metadata": {},
   "source": [
    "### SVM Grid"
   ]
  },
  {
   "cell_type": "code",
   "execution_count": null,
   "metadata": {},
   "outputs": [],
   "source": [
    "IDF = TfidfVectorizer()\n",
    "SVM = SGDClassifier()\n",
    "\n",
    "pipe = Pipeline(steps=[('IDF', IDF), ('SVM', SVM)])\n",
    "\n",
    "param_dict = {'SVM__alpha':[0.0001,0.001,0.01, 0.05, 0.1],\n",
    "              'SVM__loss':['hinge','log'],\n",
    "              'SVM__penalty':['l2', 'elasticnet'],\n",
    "              'IDF__min_df':[1, 0.05, 0.1],\n",
    "}\n",
    "\n",
    "SVM_grid = GridSearchCV(pipe, param_dict, scoring='roc_auc', n_jobs=-1)\n",
    "SVM_grid.fit(X_train, y_train)"
   ]
  },
  {
   "cell_type": "code",
   "execution_count": null,
   "metadata": {},
   "outputs": [],
   "source": [
    "SVM_best_params = SVM_grid.best_params_\n",
    "SVM_grid.best_score_"
   ]
  },
  {
   "cell_type": "markdown",
   "metadata": {},
   "source": [
    "# Logistic Regression Grid Search"
   ]
  },
  {
   "cell_type": "code",
   "execution_count": 34,
   "metadata": {},
   "outputs": [
    {
     "name": "stderr",
     "output_type": "stream",
     "text": [
      "/Users/kylecaron/anaconda3/lib/python3.6/site-packages/sklearn/model_selection/_split.py:2053: FutureWarning: You should specify a value for 'cv' instead of relying on the default value. The default value will change from 3 to 5 in version 0.22.\n",
      "  warnings.warn(CV_WARNING, FutureWarning)\n",
      "/Users/kylecaron/anaconda3/lib/python3.6/site-packages/sklearn/linear_model/logistic.py:433: FutureWarning: Default solver will be changed to 'lbfgs' in 0.22. Specify a solver to silence this warning.\n",
      "  FutureWarning)\n"
     ]
    },
    {
     "data": {
      "text/plain": [
       "GridSearchCV(cv='warn', error_score='raise-deprecating',\n",
       "       estimator=Pipeline(memory=None,\n",
       "     steps=[('IDF', TfidfVectorizer(analyzer='word', binary=False, decode_error='strict',\n",
       "        dtype=<class 'numpy.float64'>, encoding='utf-8', input='content',\n",
       "        lowercase=True, max_df=1.0, max_features=None, min_df=1,\n",
       "        ngram_range=(1, 1), norm='l2', preprocessor=None, smooth_idf=True,\n",
       " ...penalty='l2', random_state=None, solver='warn',\n",
       "          tol=0.0001, verbose=0, warm_start=False))]),\n",
       "       fit_params=None, iid='warn', n_jobs=-1,\n",
       "       param_grid={'LR__C': [0.001, 1, 0.9, 0.1, 0.05], 'IDF__min_df': [1], 'IDF__max_df': [1.0]},\n",
       "       pre_dispatch='2*n_jobs', refit=True, return_train_score='warn',\n",
       "       scoring='roc_auc', verbose=0)"
      ]
     },
     "execution_count": 34,
     "metadata": {},
     "output_type": "execute_result"
    }
   ],
   "source": [
    "IDF = TfidfVectorizer(lowercase=True, stop_words='english')\n",
    "LR = LogisticRegression()\n",
    "\n",
    "pipe = Pipeline(steps=[('IDF', IDF), ('LR', LR)])\n",
    "\n",
    "param_dict = {'LR__C':[0.001, 1, 0.9, 0.1, 0.05],\n",
    " 'IDF__min_df':[1 ],\n",
    " 'IDF__max_df':[1.0],\n",
    "}\n",
    "LR_grid = GridSearchCV(pipe, param_dict, scoring='roc_auc', \n",
    "                        n_jobs=-1)\n",
    "LR_grid.fit(X_train, y_train)"
   ]
  },
  {
   "cell_type": "code",
   "execution_count": 35,
   "metadata": {},
   "outputs": [
    {
     "data": {
      "text/plain": [
       "0.9685806151756845"
      ]
     },
     "execution_count": 35,
     "metadata": {},
     "output_type": "execute_result"
    }
   ],
   "source": [
    "LR_grid.best_score_"
   ]
  },
  {
   "cell_type": "code",
   "execution_count": 36,
   "metadata": {},
   "outputs": [],
   "source": [
    "import seaborn as sns"
   ]
  },
  {
   "cell_type": "code",
   "execution_count": 39,
   "metadata": {},
   "outputs": [
    {
     "data": {
      "text/plain": [
       "<matplotlib.legend.Legend at 0x1a1ec15ba8>"
      ]
     },
     "execution_count": 39,
     "metadata": {},
     "output_type": "execute_result"
    },
    {
     "data": {
      "image/png": "[encoded data removed]",
      "text/plain": [
       "<Figure size 432x288 with 1 Axes>"
      ]
     },
     "metadata": {
      "needs_background": "light"
     },
     "output_type": "display_data"
    }
   ],
   "source": [
    "fpr1, tpr1, thresholds = roc_curve(y_test,\n",
    "                BNB_grid.predict_proba(X_test)[:,1])\n",
    "# fpr2, tpr2, thresholds = roc_curve(y_test,\n",
    "#                 SVM_grid.predict(X_test))\n",
    "fpr3, tpr3, thresholds = roc_curve(y_test,\n",
    "                LR_grid.predict_proba(X_test)[:,1])\n",
    "\n",
    "\n",
    "plt.plot(fpr1,tpr1, label = 'NB',linewidth=3)\n",
    "# plt.plot(fpr2,tpr2, label='SVM', linewidth=3)\n",
    "plt.plot(fpr3,tpr3, label='LR', linewidth=3)\n",
    "plt.title('Receiver Operater Curve')\n",
    "plt.xlabel('FPR')\n",
    "plt.ylabel('TPR')\n",
    "plt.legend()"
   ]
  },
  {
   "cell_type": "code",
   "execution_count": 43,
   "metadata": {},
   "outputs": [
    {
     "name": "stdout",
     "output_type": "stream",
     "text": [
      "BNB Accuracy on Test Set: 96.3%\n"
     ]
    }
   ],
   "source": [
    "#print('\\nSVM Accuracy on Test Set: {}%'.format(round(np.mean(y_test==SVM_grid.predict(X_test)),3)*100))\n",
    "print('BNB Accuracy on Test Set: {}%'.format(round(BNB_grid.score(X_test,y_test),3)*100))"
   ]
  },
  {
   "cell_type": "code",
   "execution_count": 55,
   "metadata": {},
   "outputs": [
    {
     "name": "stdout",
     "output_type": "stream",
     "text": [
      "BNB Accuracy on Test Set: 89.7%\n",
      "BNB ROC-AUC on Test Set: 0.963\n",
      "LR Accuracy on Test Set: 91.4%\n",
      "LR ROC-AUC on Test Set: 0.971\n"
     ]
    }
   ],
   "source": [
    "#print('\\nSVM Accuracy on Test Set: {}%'.format(round(SVM_grid.score(X_test,y_test),3)*100))\n",
    "#print('\\nSVM ROC-AUC on Test Set: {}%'.format(round(roc_auc_score(\n",
    "#    y_test,SVM_grid.predict(X_test)),3)*100))\n",
    "\n",
    "print('BNB Accuracy on Test Set: {}%'.format(round(np.mean(y_test == BNB_grid.predict(X_test)),3)*100))\n",
    "print('BNB ROC-AUC on Test Set: {}'.format(round(\n",
    "    roc_auc_score(y_test,BNB_grid.predict_proba(X_test)[:,1]),3)))\n",
    "\n",
    "print('LR Accuracy on Test Set: {}%'.format(round(np.mean(y_test == LR_grid.predict(X_test)),3)*100))\n",
    "print('LR ROC-AUC on Test Set: {}'.format(round(\n",
    "    roc_auc_score(y_test,LR_grid.predict_proba(X_test)[:,1]),3)))\n"
   ]
  },
  {
   "cell_type": "code",
   "execution_count": null,
   "metadata": {},
   "outputs": [],
   "source": []
  },
  {
   "cell_type": "code",
   "execution_count": 57,
   "metadata": {},
   "outputs": [],
   "source": [
    "from sklearn.metrics import confusion_matrix\n",
    "from src.util import plot_confusion_matrix"
   ]
  },
  {
   "cell_type": "code",
   "execution_count": 64,
   "metadata": {},
   "outputs": [
    {
     "name": "stdout",
     "output_type": "stream",
     "text": [
      "Confusion matrix\n",
      "[[11201  1161]\n",
      " [  991 11030]]\n"
     ]
    },
    {
     "data": {
      "text/plain": [
       "<matplotlib.axes._subplots.AxesSubplot at 0x1a29091898>"
      ]
     },
     "execution_count": 64,
     "metadata": {},
     "output_type": "execute_result"
    },
    {
     "data": {
      "image/png": "[encoded data removed]",
      "text/plain": [
       "<Figure size 432x288 with 2 Axes>"
      ]
     },
     "metadata": {
      "needs_background": "light"
     },
     "output_type": "display_data"
    }
   ],
   "source": [
    "plot_confusion_matrix(y_test, SVM_grid.predict(X_test))"
   ]
  },
  {
   "cell_type": "code",
   "execution_count": 65,
   "metadata": {},
   "outputs": [
    {
     "name": "stdout",
     "output_type": "stream",
     "text": [
      "Confusion matrix\n",
      "[[10873  1193]\n",
      " [ 1319 10998]]\n"
     ]
    },
    {
     "data": {
      "text/plain": [
       "<matplotlib.axes._subplots.AxesSubplot at 0x1a290fea58>"
      ]
     },
     "execution_count": 65,
     "metadata": {},
     "output_type": "execute_result"
    },
    {
     "data": {
      "image/png": "[encoded data removed]",
      "text/plain": [
       "<Figure size 432x288 with 2 Axes>"
      ]
     },
     "metadata": {
      "needs_background": "light"
     },
     "output_type": "display_data"
    }
   ],
   "source": [
    "plot_confusion_matrix(y_test, BNB_grid.predict(X_test))"
   ]
  },
  {
   "cell_type": "code",
   "execution_count": 59,
   "metadata": {
    "scrolled": true
   },
   "outputs": [
    {
     "name": "stdout",
     "output_type": "stream",
     "text": [
      "Confusion matrix\n",
      "[[11205  1107]\n",
      " [  987 11084]]\n"
     ]
    },
    {
     "data": {
      "text/plain": [
       "<matplotlib.axes._subplots.AxesSubplot at 0x1a221375c0>"
      ]
     },
     "execution_count": 59,
     "metadata": {},
     "output_type": "execute_result"
    },
    {
     "data": {
      "image/png": "[encoded data removed]",
      "text/plain": [
       "<Figure size 432x288 with 2 Axes>"
      ]
     },
     "metadata": {
      "needs_background": "light"
     },
     "output_type": "display_data"
    }
   ],
   "source": [
    "plot_confusion_matrix(y_test, LR_grid.predict(X_test))"
   ]
  },
  {
   "cell_type": "code",
   "execution_count": 61,
   "metadata": {},
   "outputs": [],
   "source": [
    "def FPR(confusion_matrix):\n",
    "    tpr = confusion_matrix[0,1]/(confusion_matrix[0,1]+confusion_matrix[1,1])\n",
    "    return tpr\n",
    "\n",
    "def TPR(confusion_matrix):\n",
    "    tpr = confusion_matrix[0,0]/(confusion_matrix[0,0]+confusion_matrix[0,1])\n",
    "    return tpr"
   ]
  },
  {
   "cell_type": "markdown",
   "metadata": {},
   "source": [
    "# MNB"
   ]
  },
  {
   "cell_type": "code",
   "execution_count": 76,
   "metadata": {},
   "outputs": [],
   "source": [
    "cm_BNB = confusion_matrix(y_test, BNB_grid.predict(X_test)).T"
   ]
  },
  {
   "cell_type": "code",
   "execution_count": 77,
   "metadata": {},
   "outputs": [
    {
     "name": "stdout",
     "output_type": "stream",
     "text": [
      "9.785907636781232\n",
      "90.11271340958064\n"
     ]
    }
   ],
   "source": [
    "print(FPR(cm_BNB)*100) \n",
    "print(TPR(cm_BNB)*100)"
   ]
  },
  {
   "cell_type": "markdown",
   "metadata": {},
   "source": [
    "# LR"
   ]
  },
  {
   "cell_type": "code",
   "execution_count": 66,
   "metadata": {},
   "outputs": [],
   "source": [
    "cm_LR = confusion_matrix(y_test, LR_grid.predict(X_test)).T"
   ]
  },
  {
   "cell_type": "code",
   "execution_count": 67,
   "metadata": {},
   "outputs": [
    {
     "name": "stdout",
     "output_type": "stream",
     "text": [
      "9.080469198589123\n",
      "91.00877192982456\n"
     ]
    }
   ],
   "source": [
    "print(FPR(cm_LR)*100) \n",
    "print(TPR(cm_LR)*100)"
   ]
  },
  {
   "cell_type": "markdown",
   "metadata": {},
   "source": [
    "# SVM"
   ]
  },
  {
   "cell_type": "code",
   "execution_count": 131,
   "metadata": {},
   "outputs": [
    {
     "name": "stdout",
     "output_type": "stream",
     "text": [
      "0.9156003937007874\n",
      "0.09498810597982119\n"
     ]
    }
   ],
   "source": [
    "print(11163/(11163+1029))\n",
    "print(1158/(1158+11033))"
   ]
  },
  {
   "cell_type": "code",
   "execution_count": 175,
   "metadata": {},
   "outputs": [],
   "source": [
    "from sklearn.naive_bayes import BernoulliNB"
   ]
  },
  {
   "cell_type": "code",
   "execution_count": 176,
   "metadata": {},
   "outputs": [],
   "source": [
    "NB = BernoulliNB(alpha=1)"
   ]
  },
  {
   "cell_type": "code",
   "execution_count": 177,
   "metadata": {},
   "outputs": [
    {
     "data": {
      "text/plain": [
       "BernoulliNB(alpha=1, binarize=0.0, class_prior=None, fit_prior=True)"
      ]
     },
     "execution_count": 177,
     "metadata": {},
     "output_type": "execute_result"
    }
   ],
   "source": [
    "NB.fit(idf_X_train, y_train)"
   ]
  },
  {
   "cell_type": "code",
   "execution_count": 178,
   "metadata": {},
   "outputs": [
    {
     "data": {
      "text/plain": [
       "0.8996431940286265"
      ]
     },
     "execution_count": 178,
     "metadata": {},
     "output_type": "execute_result"
    }
   ],
   "source": [
    "NB.score(idf_X_test, y_test)"
   ]
  },
  {
   "cell_type": "code",
   "execution_count": 179,
   "metadata": {},
   "outputs": [
    {
     "data": {
      "text/plain": [
       "0.8975925849977443"
      ]
     },
     "execution_count": 179,
     "metadata": {},
     "output_type": "execute_result"
    }
   ],
   "source": [
    "nb = MultinomialNB(alpha=1)\n",
    "nb.fit(idf_X_train, y_train)\n",
    "nb.score(idf_X_test, y_test)"
   ]
  },
  {
   "cell_type": "code",
   "execution_count": 188,
   "metadata": {},
   "outputs": [],
   "source": [
    "r1 = \"\"\"Mattress is super comfortable and unlike some other models, cool all night long. \n",
    "Once delivered, installation was quick and easy. It came in a duffle that was slightly damaged. \n",
    "It appeared to have been dragged during delivery, but it is quite heavy. We were concerned about the smell due \n",
    "to reviews that we had read, but we noticed no odor and were able to use the mattress the same day. The pillows are \n",
    "very thick, too thick for our liking, but they have a zippered closure that allows you to remove foam for \n",
    "individualized comfort. The NECTAR mattress is one of the best purchases we've ever made\"\"\"\n",
    "\n",
    "r2 = \"\"\"Pretty ideal mattress, I was looking online for awhile which one to buy and decided on this one. \n",
    "It’s a bit firm which I love, and I sleep perfectly through the night, no pain, no tossing and turning, \n",
    "it’s still cold where I live so I can’t attest to it running too warm or not but so far so good. The free pillows \n",
    "aren’t my favorite, I wouldn’t say why yet, I think they still have a bit of a smell I haven’t aired them out well, \n",
    "but they aren’t my primary pillow so it’s fine... plus they were ‘free’ in the purchase so I can’t really complain.\"\"\"\n",
    "\n",
    "r3 = '''Before the expiration date the bars all moldy. Horrible blue. What a waste of money. \n",
    "Will not buy from this seller ever again.'''\n",
    "\n",
    "r4 = '''Terrible Every single can -not one or two or ten- of the twelve was dented. Every. Single. Can.'''\n",
    "\n",
    "r5 = '''When the box of 12 arrived - 6 cans were dented so badly, I don't know whether to use them. \n",
    "Hunts fire roasted diced tomatoes. That is the first time that has happened'''\n",
    "\n",
    "r6 = '''I have recently been put on a no salt diet and cook with diced tomatoes a lot. \n",
    "I did not know what to do as finding no salt products in the store is difficult at best. \n",
    "These have saved a lot of my recipes and taste good as well.'''\n",
    "\n",
    "r7 ='''These canned tomatoes have a wonderful flavor and taste great used in so many dishes. \n",
    "I try to keep a few cans in my pantry for quick and easy meals.\n",
    "'''"
   ]
  },
  {
   "cell_type": "code",
   "execution_count": 189,
   "metadata": {},
   "outputs": [
    {
     "data": {
      "text/plain": [
       "'mattress super comfortable unlike models cool night long delivered installation quick easy came duffle slightly damaged appeared dragged delivery quite heavy concerned smell due reviews read noticed odor able use mattress day pillows thick thick liking zippered closure allows remove foam individualized comfort nectar mattress one best purchases weve ever made'"
      ]
     },
     "execution_count": 189,
     "metadata": {},
     "output_type": "execute_result"
    }
   ],
   "source": [
    "clean_text(r1)\n",
    "\n"
   ]
  },
  {
   "cell_type": "code",
   "execution_count": 212,
   "metadata": {},
   "outputs": [
    {
     "name": "stdout",
     "output_type": "stream",
     "text": [
      "Before the expiration date the bars all moldy. Horrible blue. What a waste of money. \n",
      "Will not buy from this seller ever again.\n",
      "spoiled product\n"
     ]
    }
   ],
   "source": [
    "print(r3)\n",
    "print('spoiled product')"
   ]
  },
  {
   "cell_type": "code",
   "execution_count": 214,
   "metadata": {},
   "outputs": [
    {
     "name": "stdout",
     "output_type": "stream",
     "text": [
      "These canned tomatoes have a wonderful flavor and taste great used in so many dishes. \n",
      "I try to keep a few cans in my pantry for quick and easy meals.\n",
      "\n",
      "great product\n"
     ]
    }
   ],
   "source": [
    "print(r7)\n",
    "print('great product')"
   ]
  },
  {
   "cell_type": "code",
   "execution_count": null,
   "metadata": {},
   "outputs": [],
   "source": []
  }
 ],
 "metadata": {
  "kernelspec": {
   "display_name": "Python 3",
   "language": "python",
   "name": "python3"
  },
  "language_info": {
   "codemirror_mode": {
    "name": "ipython",
    "version": 3
   },
   "file_extension": ".py",
   "mimetype": "text/x-python",
   "name": "python",
   "nbconvert_exporter": "python",
   "pygments_lexer": "ipython3",
   "version": "3.6.8"
  }
 },
 "nbformat": 4,
 "nbformat_minor": 2
}

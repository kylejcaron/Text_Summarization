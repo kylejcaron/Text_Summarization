{
 "cells": [
  {
   "cell_type": "code",
   "execution_count": 18,
   "metadata": {},
   "outputs": [],
   "source": [
    "import pandas as pd\n",
    "import matplotlib.pyplot as plt\n",
    "%matplotlib inline\n",
    "import pyspark\n",
    "import numpy as np\n",
    "import string\n",
    "import re\n",
    "from pyspark.sql.functions import isnan, when, count, col\n",
    "import pyspark.sql.functions as F\n",
    "\n",
    "import nltk\n",
    "from nltk.tokenize import word_tokenize\n",
    "from nltk.corpus import stopwords\n",
    "from nltk.stem.porter import PorterStemmer\n",
    "from pyspark.ml.clustering import KMeans\n",
    "from pyspark.ml.feature import CountVectorizer, IDF\n",
    "from pyspark.sql.functions import udf\n",
    "from pyspark.sql.types import ArrayType, StringType, IntegerType, FloatType, DoubleType, LongType\n",
    "from pyspark.sql import Row\n",
    "import pickle\n",
    "PUNCTUATION = set(string.punctuation)\n",
    "STOPWORDS = set(stopwords.words('english'))"
   ]
  },
  {
   "cell_type": "code",
   "execution_count": 19,
   "metadata": {},
   "outputs": [],
   "source": [
    "df = spark.read.csv(\n",
    "    's3://aws-logs-816063959671-us-east-1/data/Reviews.csv',header=True)"
   ]
  },
  {
   "cell_type": "code",
   "execution_count": 20,
   "metadata": {},
   "outputs": [
    {
     "data": {
      "text/plain": [
       "DataFrame[Id: string, ProductId: string, UserId: string, ProfileName: string, HelpfulnessNumerator: string, HelpfulnessDenominator: string, Score: string, Time: string, Summary: string, Text: string]"
      ]
     },
     "execution_count": 20,
     "metadata": {},
     "output_type": "execute_result"
    }
   ],
   "source": [
    "df.cache()"
   ]
  },
  {
   "cell_type": "code",
   "execution_count": 21,
   "metadata": {},
   "outputs": [
    {
     "data": {
      "text/plain": [
       "568454"
      ]
     },
     "execution_count": 21,
     "metadata": {},
     "output_type": "execute_result"
    }
   ],
   "source": [
    "df.count()"
   ]
  },
  {
   "cell_type": "code",
   "execution_count": 22,
   "metadata": {},
   "outputs": [
    {
     "name": "stdout",
     "output_type": "stream",
     "text": [
      "root\n",
      " |-- Id: string (nullable = true)\n",
      " |-- ProductId: string (nullable = true)\n",
      " |-- UserId: string (nullable = true)\n",
      " |-- ProfileName: string (nullable = true)\n",
      " |-- HelpfulnessNumerator: string (nullable = true)\n",
      " |-- HelpfulnessDenominator: string (nullable = true)\n",
      " |-- Score: string (nullable = true)\n",
      " |-- Time: string (nullable = true)\n",
      " |-- Summary: string (nullable = true)\n",
      " |-- Text: string (nullable = true)\n",
      "\n"
     ]
    }
   ],
   "source": [
    "df.printSchema()"
   ]
  },
  {
   "cell_type": "markdown",
   "metadata": {},
   "source": [
    "## Count nulls"
   ]
  },
  {
   "cell_type": "code",
   "execution_count": 23,
   "metadata": {},
   "outputs": [
    {
     "name": "stdout",
     "output_type": "stream",
     "text": [
      "+---+---------+------+-----------+--------------------+----------------------+-----+----+-------+----+\n",
      "| Id|ProductId|UserId|ProfileName|HelpfulnessNumerator|HelpfulnessDenominator|Score|Time|Summary|Text|\n",
      "+---+---------+------+-----------+--------------------+----------------------+-----+----+-------+----+\n",
      "|  0|        0|     0|          0|                   0|                     0|    0|   0|      0|   0|\n",
      "+---+---------+------+-----------+--------------------+----------------------+-----+----+-------+----+\n",
      "\n"
     ]
    }
   ],
   "source": [
    "df.select([count(when(isnan(c), c)).alias(c) for c in df.columns]).show()"
   ]
  },
  {
   "cell_type": "code",
   "execution_count": 24,
   "metadata": {},
   "outputs": [
    {
     "name": "stdout",
     "output_type": "stream",
     "text": [
      "+---+---------+------+-----------+--------------------+----------------------+-----+----+-------+----+\n",
      "| Id|ProductId|UserId|ProfileName|HelpfulnessNumerator|HelpfulnessDenominator|Score|Time|Summary|Text|\n",
      "+---+---------+------+-----------+--------------------+----------------------+-----+----+-------+----+\n",
      "|  0|        0|     0|          0|                   0|                     0|    0|   0|      0|   0|\n",
      "+---+---------+------+-----------+--------------------+----------------------+-----+----+-------+----+\n",
      "\n"
     ]
    }
   ],
   "source": [
    "df.select([count(when(isnan(c) | col(c).isNull(), c)).alias(c) for c in df.columns]).show()"
   ]
  },
  {
   "cell_type": "markdown",
   "metadata": {},
   "source": [
    "# EDA"
   ]
  },
  {
   "cell_type": "markdown",
   "metadata": {},
   "source": [
    "### Cleaning Text"
   ]
  },
  {
   "cell_type": "code",
   "execution_count": 25,
   "metadata": {},
   "outputs": [
    {
     "data": {
      "text/plain": [
       "['Id',\n",
       " 'ProductId',\n",
       " 'UserId',\n",
       " 'ProfileName',\n",
       " 'HelpfulnessNumerator',\n",
       " 'HelpfulnessDenominator',\n",
       " 'Score',\n",
       " 'Time',\n",
       " 'Summary',\n",
       " 'Text']"
      ]
     },
     "execution_count": 25,
     "metadata": {},
     "output_type": "execute_result"
    }
   ],
   "source": [
    "df.columns"
   ]
  },
  {
   "cell_type": "markdown",
   "metadata": {},
   "source": [
    "#### Lowercase"
   ]
  },
  {
   "cell_type": "code",
   "execution_count": 26,
   "metadata": {},
   "outputs": [],
   "source": [
    "for col in ['Summary', 'Text']:\n",
    "    df = df.withColumn(col, F.lower(F.col(col)))"
   ]
  },
  {
   "cell_type": "markdown",
   "metadata": {},
   "source": [
    "### Create text length columns"
   ]
  },
  {
   "cell_type": "code",
   "execution_count": 27,
   "metadata": {},
   "outputs": [],
   "source": [
    "def word_length(string):\n",
    "    tokens = word_tokenize(string)\n",
    "    tokens = [w for w in tokens if w not in PUNCTUATION]\n",
    "    return len(tokens)"
   ]
  },
  {
   "cell_type": "code",
   "execution_count": 28,
   "metadata": {},
   "outputs": [],
   "source": [
    "function = udf(word_length, LongType())\n",
    "df = df.withColumn('Summary_len', function(df.Summary))\n",
    "df = df.withColumn('Text_len', function(df.Text))"
   ]
  },
  {
   "cell_type": "markdown",
   "metadata": {},
   "source": [
    "### Clean based on Text Length"
   ]
  },
  {
   "cell_type": "code",
   "execution_count": 29,
   "metadata": {},
   "outputs": [
    {
     "name": "stdout",
     "output_type": "stream",
     "text": [
      "+-------+------------------+\n",
      "|summary|       Summary_len|\n",
      "+-------+------------------+\n",
      "|  count|            568454|\n",
      "|   mean| 4.218930643464555|\n",
      "| stddev|2.7689527586206704|\n",
      "|    min|                 0|\n",
      "|    max|                58|\n",
      "+-------+------------------+\n",
      "\n"
     ]
    }
   ],
   "source": [
    "df.select('Summary_len').describe().show()"
   ]
  },
  {
   "cell_type": "markdown",
   "metadata": {},
   "source": [
    "#### Count instances where the summary length is greater than text length to immediately filter out"
   ]
  },
  {
   "cell_type": "code",
   "execution_count": 30,
   "metadata": {},
   "outputs": [
    {
     "data": {
      "text/plain": [
       "1527"
      ]
     },
     "execution_count": 30,
     "metadata": {},
     "output_type": "execute_result"
    }
   ],
   "source": [
    "df.filter(df.Summary_len >= df.Text_len).count()"
   ]
  },
  {
   "cell_type": "code",
   "execution_count": 31,
   "metadata": {},
   "outputs": [],
   "source": [
    "df = df.filter(df.Summary_len < df.Text_len)"
   ]
  },
  {
   "cell_type": "markdown",
   "metadata": {},
   "source": [
    "#### Filter out summaries that are too long"
   ]
  },
  {
   "cell_type": "code",
   "execution_count": 32,
   "metadata": {},
   "outputs": [
    {
     "data": {
      "text/plain": [
       "400"
      ]
     },
     "execution_count": 32,
     "metadata": {},
     "output_type": "execute_result"
    }
   ],
   "source": [
    "df.filter(df.Summary_len > 20).count()"
   ]
  },
  {
   "cell_type": "code",
   "execution_count": 33,
   "metadata": {},
   "outputs": [],
   "source": [
    "df = df.filter(df.Summary_len <= 20)"
   ]
  },
  {
   "cell_type": "markdown",
   "metadata": {},
   "source": [
    "### Investigate short summaries"
   ]
  },
  {
   "cell_type": "code",
   "execution_count": 34,
   "metadata": {},
   "outputs": [
    {
     "data": {
      "text/plain": [
       "96"
      ]
     },
     "execution_count": 34,
     "metadata": {},
     "output_type": "execute_result"
    }
   ],
   "source": [
    "df.filter(df.Summary_len == 0).count()"
   ]
  },
  {
   "cell_type": "code",
   "execution_count": 35,
   "metadata": {},
   "outputs": [
    {
     "name": "stdout",
     "output_type": "stream",
     "text": [
      "+--------------------+\n",
      "|             Summary|\n",
      "+--------------------+\n",
      "|                  =]|\n",
      "|                ????|\n",
      "|$$$$$$$$$$$$$$$$$...|\n",
      "|                 ???|\n",
      "|                  $$|\n",
      "+--------------------+\n",
      "only showing top 5 rows\n",
      "\n"
     ]
    }
   ],
   "source": [
    "df.select('Summary').filter(df.Summary_len == 0).show(5)"
   ]
  },
  {
   "cell_type": "code",
   "execution_count": 36,
   "metadata": {},
   "outputs": [
    {
     "name": "stdout",
     "output_type": "stream",
     "text": [
      "+-------------+\n",
      "|      Summary|\n",
      "+-------------+\n",
      "|    twizzlers|\n",
      "|    twizzlers|\n",
      "|       yummy!|\n",
      "|   satisfying|\n",
      "|   food-great|\n",
      "|         good|\n",
      "|        mushy|\n",
      "|         good|\n",
      "|   delicious!|\n",
      "|        great|\n",
      "|          bad|\n",
      "|        tart!|\n",
      "|disappointing|\n",
      "|       jell-o|\n",
      "|       tasty!|\n",
      "|   delicious!|\n",
      "|        handy|\n",
      "|      miracle|\n",
      "|      tasty!!|\n",
      "|      altoids|\n",
      "+-------------+\n",
      "only showing top 20 rows\n",
      "\n"
     ]
    }
   ],
   "source": [
    "df.select('Summary').filter(df.Summary_len == 1).show(20)"
   ]
  },
  {
   "cell_type": "code",
   "execution_count": 37,
   "metadata": {},
   "outputs": [
    {
     "data": {
      "text/plain": [
       "58434"
      ]
     },
     "execution_count": 37,
     "metadata": {},
     "output_type": "execute_result"
    }
   ],
   "source": [
    "df.select('Summary').filter(df.Summary_len <= 1).count()"
   ]
  },
  {
   "cell_type": "code",
   "execution_count": 38,
   "metadata": {},
   "outputs": [],
   "source": [
    "df = df.filter(df.Summary_len > 0)"
   ]
  },
  {
   "cell_type": "markdown",
   "metadata": {},
   "source": [
    "It looks like summaries with a word length of 1 make up 1/10 of the dataset. Thats a lot of data, this shouldn't be filtered out. Summaries with a word length of 0 seem to be made up of emojis or useless symbols and there are only 96 cases, so those will be removed, as well as summaries with > 20 words"
   ]
  },
  {
   "cell_type": "markdown",
   "metadata": {},
   "source": [
    "### Investigating source Text length"
   ]
  },
  {
   "cell_type": "code",
   "execution_count": 39,
   "metadata": {},
   "outputs": [
    {
     "data": {
      "text/plain": [
       "DataFrame[Id: string, ProductId: string, UserId: string, ProfileName: string, HelpfulnessNumerator: string, HelpfulnessDenominator: string, Score: string, Time: string, Summary: string, Text: string, Summary_len: bigint, Text_len: bigint]"
      ]
     },
     "execution_count": 39,
     "metadata": {},
     "output_type": "execute_result"
    }
   ],
   "source": [
    "df.cache()"
   ]
  },
  {
   "cell_type": "code",
   "execution_count": 40,
   "metadata": {},
   "outputs": [
    {
     "name": "stdout",
     "output_type": "stream",
     "text": [
      "+-------+-----------------+\n",
      "|summary|         Text_len|\n",
      "+-------+-----------------+\n",
      "|  count|           566431|\n",
      "|   mean|72.41091324450815|\n",
      "| stddev|63.09016722600273|\n",
      "|    min|                2|\n",
      "|    max|             2239|\n",
      "+-------+-----------------+\n",
      "\n"
     ]
    }
   ],
   "source": [
    "df.select('Text_len').describe().show()"
   ]
  },
  {
   "cell_type": "code",
   "execution_count": 41,
   "metadata": {},
   "outputs": [
    {
     "name": "stdout",
     "output_type": "stream",
     "text": [
      "29404 rows have a text length less than 20 words\n",
      "0.05% of rows have a text length less than 20 words\n"
     ]
    }
   ],
   "source": [
    "print('{} rows have a text length less than 20 words'.format(df.filter(df.Text_len <= 20).count()))\n",
    "print('{}% of rows have a text length less than 20 words'.format(round(df.filter(df.Text_len <= 20).count()\n",
    "                                                                       /df.count(),2)))"
   ]
  },
  {
   "cell_type": "markdown",
   "metadata": {},
   "source": [
    "Many reviews have under 20 words. It's a tough decision to make, but these will be removed from the dataset"
   ]
  },
  {
   "cell_type": "code",
   "execution_count": 42,
   "metadata": {},
   "outputs": [],
   "source": [
    "df = df.filter(df.Text_len > 20)"
   ]
  },
  {
   "cell_type": "markdown",
   "metadata": {},
   "source": [
    "#### Filter out all rows where the summary isnt half the length of the review (or smaller)"
   ]
  },
  {
   "cell_type": "code",
   "execution_count": 43,
   "metadata": {},
   "outputs": [
    {
     "data": {
      "text/plain": [
       "649"
      ]
     },
     "execution_count": 43,
     "metadata": {},
     "output_type": "execute_result"
    }
   ],
   "source": [
    "df.filter(df.Text_len*0.5 <= df.Summary_len).count()"
   ]
  },
  {
   "cell_type": "code",
   "execution_count": 44,
   "metadata": {},
   "outputs": [],
   "source": [
    "df = df.filter(df.Text_len*0.5 > df.Summary_len)"
   ]
  },
  {
   "cell_type": "code",
   "execution_count": 45,
   "metadata": {},
   "outputs": [
    {
     "name": "stdout",
     "output_type": "stream",
     "text": [
      "+-------+-----------------+\n",
      "|summary|         Text_len|\n",
      "+-------+-----------------+\n",
      "|  count|           536378|\n",
      "|   mean|75.52767078440951|\n",
      "| stddev|63.39854954180554|\n",
      "|    min|               21|\n",
      "|    max|             2239|\n",
      "+-------+-----------------+\n",
      "\n"
     ]
    }
   ],
   "source": [
    "df.select('Text_len').describe().show()"
   ]
  },
  {
   "cell_type": "code",
   "execution_count": 46,
   "metadata": {},
   "outputs": [
    {
     "data": {
      "text/plain": [
       "array([[<matplotlib.axes._subplots.AxesSubplot object at 0x7f37270ced68>]],\n",
       "      dtype=object)"
      ]
     },
     "execution_count": 46,
     "metadata": {},
     "output_type": "execute_result"
    },
    {
     "data": {
      "image/png": "[encoded data removed]",
      "text/plain": [
       "<Figure size 432x288 with 1 Axes>"
      ]
     },
     "metadata": {
      "needs_background": "light"
     },
     "output_type": "display_data"
    }
   ],
   "source": [
    "df.select('Text_len').toPandas().hist()"
   ]
  },
  {
   "cell_type": "markdown",
   "metadata": {},
   "source": [
    "### Only include reviews with a word length <= 250 words"
   ]
  },
  {
   "cell_type": "code",
   "execution_count": 47,
   "metadata": {},
   "outputs": [
    {
     "data": {
      "text/plain": [
       "array([[<matplotlib.axes._subplots.AxesSubplot object at 0x7f37271f5860>]],\n",
       "      dtype=object)"
      ]
     },
     "execution_count": 47,
     "metadata": {},
     "output_type": "execute_result"
    },
    {
     "data": {
      "image/png": "[encoded data removed]",
      "text/plain": [
       "<Figure size 432x288 with 1 Axes>"
      ]
     },
     "metadata": {
      "needs_background": "light"
     },
     "output_type": "display_data"
    }
   ],
   "source": [
    "df.select('Text_len').filter(df.Text_len<=250).toPandas().hist()"
   ]
  },
  {
   "cell_type": "code",
   "execution_count": 48,
   "metadata": {},
   "outputs": [],
   "source": [
    "df = df.filter(df.Text_len<=250)"
   ]
  },
  {
   "cell_type": "markdown",
   "metadata": {},
   "source": [
    "# Clean text\n",
    "\n",
    "We only want to clean the Reddit Post Content, not the summary, since we want the output of our model to be plain english."
   ]
  },
  {
   "cell_type": "code",
   "execution_count": 49,
   "metadata": {},
   "outputs": [],
   "source": [
    "def clean_text(text, remove_stopwords=True):\n",
    "    text = text.lower()\n",
    "    \n",
    "    if True:\n",
    "        text = text.split()\n",
    "        new_text = [CONTRACTIONS[w] if w in CONTRACTIONS else w for w in text]\n",
    "        text = \" \".join(new_text)\n",
    "    \n",
    "    tokens = word_tokenize(text)\n",
    "    tokens = [w for w in tokens if w not in PUNCTUATION]\n",
    "    if remove_stopwords==True:\n",
    "        tokens = [w for w in tokens if w not in STOPWORDS]\n",
    "    return tokens"
   ]
  },
  {
   "cell_type": "code",
   "execution_count": 50,
   "metadata": {
    "scrolled": false
   },
   "outputs": [
    {
     "data": {
      "text/plain": [
       "['Id',\n",
       " 'ProductId',\n",
       " 'UserId',\n",
       " 'ProfileName',\n",
       " 'HelpfulnessNumerator',\n",
       " 'HelpfulnessDenominator',\n",
       " 'Score',\n",
       " 'Time',\n",
       " 'Summary',\n",
       " 'Text',\n",
       " 'Summary_len',\n",
       " 'Text_len']"
      ]
     },
     "execution_count": 50,
     "metadata": {},
     "output_type": "execute_result"
    }
   ],
   "source": [
    "df.columns"
   ]
  },
  {
   "cell_type": "code",
   "execution_count": 51,
   "metadata": {},
   "outputs": [],
   "source": [
    "cleantext_udf = udf(clean_text, StringType())\n",
    "df = df.withColumn('Summary_cleaned', \n",
    "                           cleantext_udf(df.Summary, F.lit(True)))"
   ]
  },
  {
   "cell_type": "code",
   "execution_count": 52,
   "metadata": {
    "scrolled": true
   },
   "outputs": [
    {
     "name": "stdout",
     "output_type": "stream",
     "text": [
      "+--------------------+\n",
      "|             Summary|\n",
      "+--------------------+\n",
      "|good quality dog ...|\n",
      "|   not as advertised|\n",
      "|\"\"\"delight\"\" says...|\n",
      "|      cough medicine|\n",
      "|         great taffy|\n",
      "|          nice taffy|\n",
      "|great!  just as g...|\n",
      "|wonderful, tasty ...|\n",
      "|          yay barley|\n",
      "|    healthy dog food|\n",
      "|the best hot sauc...|\n",
      "|\"my cats love thi...|\n",
      "|my cats are not f...|\n",
      "|strawberry twizzl...|\n",
      "|lots of twizzlers...|\n",
      "|          poor taste|\n",
      "|            love it!|\n",
      "|  great sweet candy!|\n",
      "|home delivered tw...|\n",
      "|        always fresh|\n",
      "+--------------------+\n",
      "only showing top 20 rows\n",
      "\n"
     ]
    }
   ],
   "source": [
    "df.select('Summary').show()"
   ]
  },
  {
   "cell_type": "markdown",
   "metadata": {},
   "source": [
    "## Clean the ratings for sentiment analysis"
   ]
  },
  {
   "cell_type": "code",
   "execution_count": 53,
   "metadata": {},
   "outputs": [
    {
     "name": "stdout",
     "output_type": "stream",
     "text": [
      "+-----+\n",
      "|Score|\n",
      "+-----+\n",
      "|    3|\n",
      "|    0|\n",
      "|    5|\n",
      "|    1|\n",
      "|    4|\n",
      "|    2|\n",
      "+-----+\n",
      "\n"
     ]
    }
   ],
   "source": [
    "df.select('Score').distinct().show()"
   ]
  },
  {
   "cell_type": "markdown",
   "metadata": {},
   "source": [
    "Score is supposed to be a value 0-5, indicating a product rating. Need to clean this"
   ]
  },
  {
   "cell_type": "code",
   "execution_count": 54,
   "metadata": {},
   "outputs": [
    {
     "name": "stdout",
     "output_type": "stream",
     "text": [
      "+-----+\n",
      "|Score|\n",
      "+-----+\n",
      "|    3|\n",
      "|    5|\n",
      "|    1|\n",
      "|    4|\n",
      "|    2|\n",
      "+-----+\n",
      "\n"
     ]
    }
   ],
   "source": [
    "df.filter(df.Score.isin(['1','2','3','4','5'])).select('Score').distinct().show()"
   ]
  },
  {
   "cell_type": "code",
   "execution_count": 55,
   "metadata": {},
   "outputs": [
    {
     "data": {
      "text/plain": [
       "524319"
      ]
     },
     "execution_count": 55,
     "metadata": {},
     "output_type": "execute_result"
    }
   ],
   "source": [
    "df.filter(df.Score.isin(['1','2','3','4','5'])).select('Score').count()"
   ]
  },
  {
   "cell_type": "markdown",
   "metadata": {},
   "source": [
    "Great, most of the dataset is still retained"
   ]
  },
  {
   "cell_type": "code",
   "execution_count": 56,
   "metadata": {},
   "outputs": [],
   "source": [
    "df = df.filter(df.Score.isin(['1','2','3','4','5']))\n",
    "df = df.withColumn(\"Score\", df[\"Score\"].cast(IntegerType()))"
   ]
  },
  {
   "cell_type": "code",
   "execution_count": 57,
   "metadata": {},
   "outputs": [
    {
     "data": {
      "text/plain": [
       "array([[<matplotlib.axes._subplots.AxesSubplot object at 0x7f37270bed68>]],\n",
       "      dtype=object)"
      ]
     },
     "execution_count": 57,
     "metadata": {},
     "output_type": "execute_result"
    },
    {
     "data": {
      "image/png": "[encoded data removed]",
      "text/plain": [
       "<Figure size 432x288 with 1 Axes>"
      ]
     },
     "metadata": {
      "needs_background": "light"
     },
     "output_type": "display_data"
    }
   ],
   "source": [
    "df.select('Score').toPandas().astype('int64').hist()"
   ]
  },
  {
   "cell_type": "markdown",
   "metadata": {},
   "source": [
    "# The end goal is to create text summarization, and to perform sentiment analysis\n",
    "\n",
    "In this case, ratings of 1 star (score=1) are considered negative sentiment, while ratings of 5 star are considered positive sentiment. As you can see in the histogram above, users are far more likely to give 5 star reviews. There are also a lack of 1 star reviews. We will create a subset for sentiment analysis and perform random undersampling on the 5 star reviews to create a balanced dataset, which will greatly help the performance of many common models used for sentiment analysis. We will keep the entire dataset to train the text summarization model"
   ]
  },
  {
   "cell_type": "code",
   "execution_count": 58,
   "metadata": {},
   "outputs": [
    {
     "name": "stdout",
     "output_type": "stream",
     "text": [
      "# 1 star reviews: 48723\n",
      "# 5 star reviews: 334962\n"
     ]
    }
   ],
   "source": [
    "subset_1star = df.filter(df.Score == 1)\n",
    "subset_5star = df.filter(df.Score == 5)\n",
    "print('# 1 star reviews: {}'.format(subset_1star.count()))\n",
    "print('# 5 star reviews: {}'.format(subset_5star.count()))\n"
   ]
  },
  {
   "cell_type": "markdown",
   "metadata": {},
   "source": [
    "### Random undersampling the positive class (5 star reviews)"
   ]
  },
  {
   "cell_type": "code",
   "execution_count": 59,
   "metadata": {},
   "outputs": [],
   "source": [
    "sample_ratio = subset_1star.count()/subset_5star.count()\n",
    "subset_5star = subset_5star.sample(withReplacement=False, fraction=sample_ratio)"
   ]
  },
  {
   "cell_type": "markdown",
   "metadata": {},
   "source": [
    "### Combine the positive and negative classes into one dataframe"
   ]
  },
  {
   "cell_type": "code",
   "execution_count": 60,
   "metadata": {},
   "outputs": [],
   "source": [
    "subset = subset_1star.union(subset_5star)"
   ]
  },
  {
   "cell_type": "code",
   "execution_count": 61,
   "metadata": {},
   "outputs": [
    {
     "data": {
      "text/plain": [
       "2"
      ]
     },
     "execution_count": 61,
     "metadata": {},
     "output_type": "execute_result"
    }
   ],
   "source": [
    "len(subset.randomSplit([0.9,0.1]))"
   ]
  },
  {
   "cell_type": "markdown",
   "metadata": {},
   "source": [
    "# Created a function in src/util.py to retrace what was done in this notebook"
   ]
  },
  {
   "cell_type": "code",
   "execution_count": 66,
   "metadata": {},
   "outputs": [],
   "source": [
    "import pandas as pd\n",
    "import matplotlib.pyplot as plt\n",
    "%matplotlib inline\n",
    "import pyspark\n",
    "import numpy as np\n",
    "import string\n",
    "import re\n",
    "from pyspark.sql.functions import isnan, when, count, col\n",
    "import pyspark.sql.functions as F\n",
    "\n",
    "import nltk\n",
    "from nltk.tokenize import word_tokenize\n",
    "from nltk.corpus import stopwords\n",
    "from nltk.stem.porter import PorterStemmer\n",
    "from pyspark.ml.clustering import KMeans\n",
    "from pyspark.ml.feature import CountVectorizer, IDF\n",
    "from pyspark.sql.functions import udf\n",
    "from pyspark.sql.types import ArrayType, StringType, IntegerType, FloatType, DoubleType, LongType\n",
    "from pyspark.sql import Row\n",
    "import pickle\n",
    "PUNCTUATION = set(string.punctuation)\n",
    "STOPWORDS = set(stopwords.words('english'))\n",
    "from pyspark.sql import SparkSession\n",
    "\n",
    "\n",
    "def word_length(string):\n",
    "    tokens = word_tokenize(string)\n",
    "    tokens = [w for w in tokens if w not in PUNCTUATION]\n",
    "    return len(tokens)\n",
    "\n",
    "def clean_text(text, remove_stopwords=True):\n",
    "    text = text.lower()\n",
    "    \n",
    "    if True:\n",
    "        text = text.split()\n",
    "        new_text = [CONTRACTIONS[w] if w in CONTRACTIONS else w for w in text]\n",
    "        text = \" \".join(new_text)\n",
    "    \n",
    "    tokens = word_tokenize(text)\n",
    "    tokens = [w for w in tokens if w not in PUNCTUATION]\n",
    "    if remove_stopwords==True:\n",
    "        tokens = [w for w in tokens if w not in STOPWORDS]\n",
    "    return tokens\n",
    "\n",
    "def clean_df(df, output_csv=False):\n",
    "\n",
    "    # Lowercase reviews and summaries\n",
    "    for col in ['Summary', 'Text']:\n",
    "        df = df.withColumn(col, F.lower(F.col(col)))\n",
    "    # Create word_length columns    \n",
    "    function = udf(word_length, LongType())\n",
    "    df = df.withColumn('Summary_len', function(df.Summary))\n",
    "    df = df.withColumn('Text_len', function(df.Text))    \n",
    "    # Filter rows by word lengths\n",
    "    df = df.filter(df.Summary_len <= 20)\n",
    "    df = df.filter(df.Text_len > 20)\n",
    "    df = df.filter(df.Text_len*0.5 > df.Summary_len)\n",
    "    df = df.filter(df.Text_len<=250)\n",
    "    # Clean text\n",
    "    cleantext_udf = udf(clean_text, StringType())\n",
    "    df = df.withColumn('Summary_cleaned', \n",
    "            cleantext_udf(df.Summary, F.lit(True)))\n",
    "    # Clean reviews\n",
    "    df = df.filter(df.Score.isin(['1','2','3','4','5']))\n",
    "    df = df.withColumn(\"Score\", df[\"Score\"].cast(IntegerType()))\n",
    "    if output_csv==True:\n",
    "        subset = df.select('Text', 'Summary')\n",
    "        train, test = subset.randomSplit([0.9,0.1])\n",
    "        X_train, y_train = train.select('Text'), train.select('Summary')\n",
    "        X_test, y_test = test.select('Text'), test.select('Summary')\n",
    "        X_train.write.csv('sumdata/train/train.article.csv', mode='append')\n",
    "        y_train.write.csv('sumdata/train/train.title.csv', mode='append')\n",
    "        X_test.write.csv('sumdata/train/valid.article.filter.csv', mode='append')\n",
    "        y_test.write.csv('sumdata/train/talid.title.filter.csv', mode='append')\n",
    "        \n",
    "        #df.write.save(path='csv', format='csv', mode='append', sep='\\t')\n",
    "    return df\n",
    "\n",
    "def sentiment_subset(df):\n",
    "    subset_1star = df.filter(df.Score == 1)\n",
    "    subset_5star = df.filter(df.Score == 5)\n",
    "    # Random undersampling\n",
    "    sample_ratio = subset_1star.count()/subset_5star.count()\n",
    "    subset_5star = subset_5star.sample(withReplacement=False, fraction=sample_ratio)\n",
    "    subset = subset_1star.union(subset_5star)\n",
    "    return subset\n",
    "\n",
    "# if __name__ == \"__main__\":\n",
    "#     spark = SparkSession.builder.appName(\"CleaningApp\").getOrCreate()\n",
    "#     df = spark.read.csv(\n",
    "#     's3n://aws-logs-816063959671-us-east-1/data/Reviews.csv',header=True)\n",
    "#     df.cache()\n",
    "#     clean_df(df, output_csv=True)\n"
   ]
  },
  {
   "cell_type": "code",
   "execution_count": 64,
   "metadata": {},
   "outputs": [],
   "source": [
    "df = spark.read.csv(\n",
    "    's3n://aws-logs-816063959671-us-east-1/data/Reviews.csv',header=True)"
   ]
  },
  {
   "cell_type": "code",
   "execution_count": null,
   "metadata": {},
   "outputs": [],
   "source": [
    "df = clean_df(df, output_csv=True)"
   ]
  },
  {
   "cell_type": "code",
   "execution_count": null,
   "metadata": {},
   "outputs": [],
   "source": []
  }
 ],
 "metadata": {
  "kernelspec": {
   "display_name": "Python 3",
   "language": "python",
   "name": "python3"
  }
 },
 "nbformat": 4,
 "nbformat_minor": 2
}
